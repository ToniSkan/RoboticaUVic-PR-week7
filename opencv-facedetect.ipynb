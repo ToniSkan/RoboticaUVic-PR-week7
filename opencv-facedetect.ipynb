{
 "metadata": {
  "name": ""
 },
 "nbformat": 3,
 "nbformat_minor": 0,
 "worksheets": [
  {
   "cells": [
    {
     "cell_type": "code",
     "collapsed": false,
     "input": [
      "#Get sample video from: https://mega.nz/#!NUtDiTgQ!xFRWP91fdwaoCShTGbVVKXP_sm6PF-pHt5VbNL_s1fE\n",
      "import cv2\n",
      "import numpy as np"
     ],
     "language": "python",
     "metadata": {},
     "outputs": [],
     "prompt_number": 3
    },
    {
     "cell_type": "code",
     "collapsed": false,
     "input": [
      "#Initialize video capture. if an integer is passed instead of a string\n",
      "#the video source with that index is used\n",
      "video = cv2.VideoCapture('video.mpeg')\n",
      "flag = True\n",
      "#Create window to visualize results\n",
      "cv2.namedWindow('faces')\n",
      "#Initialize face detector object\n",
      "face_detect = cv2.CascadeClassifier('haarcascade_frontalface_default.xml')\n",
      "\n",
      "#Main loop\n",
      "while flag:\n",
      "    #Load next frame\n",
      "    flag, frame = video.read()\n",
      "    #Convert frame to grayscale\n",
      "    gray = cv2.cvtColor(frame, cv2.COLOR_BGR2GRAY)\n",
      "    #Detect faces as rectangles\n",
      "    rects = face_detect.detectMultiScale(gray, scaleFactor=1.3, \n",
      "                                     minNeighbors=4, minSize=(30, 30), \n",
      "                                     flags = cv2.CASCADE_SCALE_IMAGE)\n",
      "    #Copy frame for visualization\n",
      "    img = frame.copy()\n",
      "    green = (0, 255, 0)\n",
      "    #For each detected face...\n",
      "    for x1, y1, x2, y2 in rects:\n",
      "        #Draw rectangle in duplicated image\n",
      "        cv2.rectangle(img, (x1, y1), (x2+x1, y2+y1), green, 2)\n",
      "    #Show in window\n",
      "    cv2.imshow('faces', img)\n",
      "    #Wait for keypress \n",
      "    key = cv2.waitKey(1)\n",
      "    if key == 'q':\n",
      "        flag = False"
     ],
     "language": "python",
     "metadata": {},
     "outputs": [
      {
       "ename": "KeyboardInterrupt",
       "evalue": "",
       "output_type": "pyerr",
       "traceback": [
        "\u001b[0;31m---------------------------------------------------------------------------\u001b[0m\n\u001b[0;31mKeyboardInterrupt\u001b[0m                         Traceback (most recent call last)",
        "\u001b[0;32m<ipython-input-11-963bc9e5aab4>\u001b[0m in \u001b[0;36m<module>\u001b[0;34m()\u001b[0m\n\u001b[1;32m      9\u001b[0m     rects = face_detect.detectMultiScale(gray, scaleFactor=1.3, \n\u001b[1;32m     10\u001b[0m                                      \u001b[0mminNeighbors\u001b[0m\u001b[0;34m=\u001b[0m\u001b[0;36m4\u001b[0m\u001b[0;34m,\u001b[0m \u001b[0mminSize\u001b[0m\u001b[0;34m=\u001b[0m\u001b[0;34m(\u001b[0m\u001b[0;36m30\u001b[0m\u001b[0;34m,\u001b[0m \u001b[0;36m30\u001b[0m\u001b[0;34m)\u001b[0m\u001b[0;34m,\u001b[0m\u001b[0;34m\u001b[0m\u001b[0m\n\u001b[0;32m---> 11\u001b[0;31m                                      flags = cv2.CASCADE_SCALE_IMAGE)\n\u001b[0m\u001b[1;32m     12\u001b[0m     \u001b[0mimg\u001b[0m \u001b[0;34m=\u001b[0m \u001b[0mframe\u001b[0m\u001b[0;34m.\u001b[0m\u001b[0mcopy\u001b[0m\u001b[0;34m(\u001b[0m\u001b[0;34m)\u001b[0m\u001b[0;34m\u001b[0m\u001b[0m\n\u001b[1;32m     13\u001b[0m     \u001b[0mred\u001b[0m \u001b[0;34m=\u001b[0m \u001b[0;34m(\u001b[0m\u001b[0;36m0\u001b[0m\u001b[0;34m,\u001b[0m \u001b[0;36m255\u001b[0m\u001b[0;34m,\u001b[0m \u001b[0;36m0\u001b[0m\u001b[0;34m)\u001b[0m\u001b[0;34m\u001b[0m\u001b[0m\n",
        "\u001b[0;31mKeyboardInterrupt\u001b[0m: "
       ]
      }
     ],
     "prompt_number": 11
    }
   ],
   "metadata": {}
  }
 ]
}